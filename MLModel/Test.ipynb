{
  "cells": [
    {
      "cell_type": "code",
      "execution_count": 1,
      "metadata": {
        "colab": {
          "base_uri": "https://localhost:8080/"
        },
        "id": "hDgoNLBFrbMK",
        "outputId": "f9b84a6f-25d7-4788-eedd-5e1bdc35243f"
      },
      "outputs": [
        {
          "output_type": "stream",
          "name": "stdout",
          "text": [
            "Mounted at /content/drive\n"
          ]
        }
      ],
      "source": [
        "# ! ls Datasets/new_test\n",
        "from google.colab import drive\n",
        "drive.mount('/content/drive')"
      ]
    },
    {
      "cell_type": "code",
      "source": [
        "!ls \"/content/drive/My Drive/Training Dataset\"\n"
      ],
      "metadata": {
        "colab": {
          "base_uri": "https://localhost:8080/"
        },
        "id": "WzeG0qF3EJ_v",
        "outputId": "98d02536-3fd0-4162-f42c-c7ab44fb2c58"
      },
      "execution_count": 2,
      "outputs": [
        {
          "output_type": "stream",
          "name": "stdout",
          "text": [
            "Fire  NoFire\n"
          ]
        }
      ]
    },
    {
      "cell_type": "code",
      "execution_count": 3,
      "metadata": {
        "id": "RaDbwE1trbMM"
      },
      "outputs": [],
      "source": [
        "import os\n",
        "import cv2\n",
        "import numpy as np\n",
        "from tqdm import tqdm\n",
        "import matplotlib.pyplot as plt\n",
        "from sklearn.metrics import confusion_matrix\n",
        "import itertools"
      ]
    },
    {
      "cell_type": "code",
      "execution_count": 8,
      "metadata": {
        "id": "7NZ8gGp3rbMN"
      },
      "outputs": [],
      "source": [
        "#DATADIR = r'D:\\EDU Files\\project\\fire\\MNet_Vgg Fire tuning\\BowFire_Data'\n",
        "DATADIR = '/content/drive/My Drive/Training Dataset'\n",
        "CATEGORIES = ['Fire', 'NoFire']"
      ]
    },
    {
      "cell_type": "code",
      "execution_count": 9,
      "metadata": {
        "id": "WJ3U9ZZUrbMN"
      },
      "outputs": [],
      "source": [
        "IMG_SIZE = 64\n",
        "def create_training_data():\n",
        "    training_data = []\n",
        "    for category in CATEGORIES:\n",
        "\n",
        "        path = os.path.join(DATADIR,category)\n",
        "        class_num = CATEGORIES.index(category)  # get the classification  (0 or a 1). 0=C 1=O\n",
        "\n",
        "        for img in tqdm(os.listdir(path)):  # iterate over each image\n",
        "            try:\n",
        "                img_array = cv2.imread(os.path.join(path,img))  # convert to array\n",
        "                new_array = cv2.resize(img_array, (IMG_SIZE, IMG_SIZE))  # resize to normalize data size\n",
        "                training_data.append([new_array, class_num])  # add this to our training_data\n",
        "            except Exception as e:  # in the interest in keeping the output clean...\n",
        "                pass\n",
        "\n",
        "    return training_data"
      ]
    },
    {
      "cell_type": "code",
      "execution_count": 10,
      "metadata": {
        "colab": {
          "base_uri": "https://localhost:8080/"
        },
        "id": "FBPzXBsMrbMN",
        "outputId": "23f220a3-7423-4992-d876-7ded9994d886"
      },
      "outputs": [
        {
          "output_type": "stream",
          "name": "stderr",
          "text": [
            "100%|██████████| 1124/1124 [00:17<00:00, 65.64it/s]\n",
            "100%|██████████| 1301/1301 [00:52<00:00, 24.82it/s]\n"
          ]
        }
      ],
      "source": [
        "training_data = create_training_data()\n"
      ]
    },
    {
      "cell_type": "code",
      "execution_count": 11,
      "metadata": {
        "id": "Swd-bCL5rbMO",
        "outputId": "de347006-acee-4b70-9318-889573a577cc",
        "colab": {
          "base_uri": "https://localhost:8080/"
        }
      },
      "outputs": [
        {
          "output_type": "stream",
          "name": "stdout",
          "text": [
            "2423\n",
            "2423\n",
            "(58704,)\n"
          ]
        },
        {
          "output_type": "execute_result",
          "data": {
            "text/plain": [
              "array([1, 0, 0, ..., 0, 0, 0])"
            ]
          },
          "metadata": {},
          "execution_count": 11
        }
      ],
      "source": [
        "import random\n",
        "test_image_num=58704\n",
        "print(len(training_data))\n",
        "random.shuffle(training_data)\n",
        "test_labels=np.zeros((test_image_num,1))\n",
        "\n",
        "c=0\n",
        "for sample in training_data:\n",
        "    test_labels[c]=(sample[1])\n",
        "    c+=1\n",
        "print(c)\n",
        "actual_labels=(test_labels.reshape(test_image_num,))\n",
        "print(actual_labels.shape)\n",
        "actual_labels.astype(int)"
      ]
    },
    {
      "cell_type": "code",
      "execution_count": 46,
      "metadata": {
        "id": "cOs0vqA-rbMO"
      },
      "outputs": [],
      "source": [
        "X = []\n",
        "Y = []\n",
        "\n",
        "for features,label in training_data:\n",
        "    X.append(features)\n",
        "    Y.append(label)\n",
        "\n",
        "X = np.array(X).reshape(-1, IMG_SIZE, IMG_SIZE, 3)\n",
        "X = X/255.0\n",
        "X.shape[1:]\n",
        "\n",
        "Y = np.array(Y)"
      ]
    },
    {
      "cell_type": "code",
      "source": [
        "!ls \"/content/drive/My Drive/TrainedModels\""
      ],
      "metadata": {
        "colab": {
          "base_uri": "https://localhost:8080/"
        },
        "id": "aKYXweV9JLwU",
        "outputId": "542e75dd-4663-49c1-ce76-6d62fe27b990"
      },
      "execution_count": 47,
      "outputs": [
        {
          "output_type": "stream",
          "name": "stdout",
          "text": [
            "Fire-64x64-color-v7.1-soft.h5\n"
          ]
        }
      ]
    },
    {
      "cell_type": "code",
      "execution_count": 48,
      "metadata": {
        "id": "edzSOhzTrbMO"
      },
      "outputs": [],
      "source": [
        "from keras.models import load_model\n",
        "model = load_model('/content/drive/My Drive/TrainedModels/Fire-64x64-color-v7.1-soft.h5')"
      ]
    },
    {
      "cell_type": "code",
      "execution_count": 49,
      "metadata": {
        "id": "MkQJfswgrbMO",
        "colab": {
          "base_uri": "https://localhost:8080/"
        },
        "outputId": "595f6b2b-b035-4529-f583-ccd9913da2a6"
      },
      "outputs": [
        {
          "output_type": "stream",
          "name": "stdout",
          "text": [
            "76/76 [==============================] - 3s 37ms/step\n"
          ]
        }
      ],
      "source": [
        "predictions = model.predict(X)\n",
        "predicted_labels = np.argmax(predictions, axis=1)\n",
        "predicted_labels = predicted_labels.astype(int)\n",
        "# syntax outdated, so updated"
      ]
    },
    {
      "cell_type": "code",
      "execution_count": 51,
      "metadata": {
        "id": "SKUXNonBrbMP",
        "colab": {
          "base_uri": "https://localhost:8080/",
          "height": 541
        },
        "outputId": "c7dacdaa-30d7-48ed-851a-d6d9c64f263c"
      },
      "outputs": [
        {
          "output_type": "stream",
          "name": "stdout",
          "text": [
            "Confusion matrix, without normalization\n",
            "[[1076   47]\n",
            " [  26 1274]]\n"
          ]
        },
        {
          "output_type": "display_data",
          "data": {
            "text/plain": [
              "<Figure size 640x480 with 2 Axes>"
            ],
            "image/png": "[encoded data removed]"
          },
          "metadata": {}
        }
      ],
      "source": [
        "def plot_confusion_matrix(cm, classes,\n",
        "                          normalize=False,\n",
        "                          title='Confusion matrix',\n",
        "                          cmap=plt.cm.Blues):\n",
        "    \"\"\"\n",
        "    This function prints and plots the confusion matrix.\n",
        "    Normalization can be applied by setting `normalize=True`.\n",
        "    \"\"\"\n",
        "    if normalize:\n",
        "        cm = cm.astype('float') / cm.sum(axis=1)[:, np.newaxis]\n",
        "        print(\"Normalized confusion matrix\")\n",
        "    else:\n",
        "        print('Confusion matrix, without normalization')\n",
        "\n",
        "    print(cm)\n",
        "\n",
        "    plt.imshow(cm, interpolation='nearest', cmap=cmap)\n",
        "    plt.title(title)\n",
        "    plt.colorbar()\n",
        "    tick_marks = np.arange(len(classes))\n",
        "    plt.xticks(tick_marks, classes, rotation=45)\n",
        "    plt.yticks(tick_marks, classes)\n",
        "\n",
        "    fmt = '.2f' if normalize else 'd'\n",
        "    thresh = cm.max() / 2.\n",
        "    for i, j in itertools.product(range(cm.shape[0]), range(cm.shape[1])):\n",
        "        plt.text(j, i, format(cm[i, j], fmt),\n",
        "                 horizontalalignment=\"center\",\n",
        "                 color=\"white\" if cm[i, j] > thresh else \"black\")\n",
        "\n",
        "    plt.ylabel('True label')\n",
        "    plt.xlabel('Predicted label')\n",
        "    plt.tight_layout()\n",
        "\n",
        "actual_labels = actual_labels[:len(training_data)]\n",
        "cm = confusion_matrix(actual_labels, predicted_labels)\n",
        "#test_batches.class_indices\n",
        "cm_plot_labels=['Fire','No Fire']\n",
        "plot_confusion_matrix(cm, cm_plot_labels,title='Confusion Matrix')"
      ]
    },
    {
      "cell_type": "code",
      "execution_count": 52,
      "metadata": {
        "id": "O3HHLkxBrbMP",
        "colab": {
          "base_uri": "https://localhost:8080/"
        },
        "outputId": "4a2610f9-32e8-477e-ca3d-ce240e7dce1c"
      },
      "outputs": [
        {
          "output_type": "stream",
          "name": "stdout",
          "text": [
            "tp 1076\n",
            "fn 47\n",
            "fp 26\n",
            "tn 1274\n"
          ]
        }
      ],
      "source": [
        "tp=cm[0][0]\n",
        "fn=cm[0][1]\n",
        "fp=cm[1][0]\n",
        "tn=cm[1][1]\n",
        "print(\"tp\"+' '+str(tp))\n",
        "print(\"fn\"+' '+str(fn))\n",
        "print(\"fp\"+' '+str(fp))\n",
        "print(\"tn\"+' '+str(tn))"
      ]
    },
    {
      "cell_type": "code",
      "execution_count": 53,
      "metadata": {
        "id": "E8JIXoPVrbMP",
        "colab": {
          "base_uri": "https://localhost:8080/"
        },
        "outputId": "01db908e-6f65-49ba-e755-7926490863a1"
      },
      "outputs": [
        {
          "output_type": "stream",
          "name": "stdout",
          "text": [
            "0.9764065335753176 0.9581478183437222 0.9671910112359551\n"
          ]
        }
      ],
      "source": [
        "Recall=tp/(tp+fn)\n",
        "Precision=tp/(tp+fp)\n",
        "f_measure= 2*((Precision*Recall)/(Precision+Recall))\n",
        "\n",
        "print(Precision, Recall, f_measure)\n",
        "\n"
      ]
    },
    {
      "cell_type": "code",
      "execution_count": 54,
      "metadata": {
        "id": "IenVdVKerbMP",
        "colab": {
          "base_uri": "https://localhost:8080/"
        },
        "outputId": "0e2d7628-ceea-4f7c-8a96-57a485c88d85"
      },
      "outputs": [
        {
          "output_type": "stream",
          "name": "stdout",
          "text": [
            "76/76 [==============================] - 4s 44ms/step - loss: 0.1640 - accuracy: 0.9699\n"
          ]
        },
        {
          "output_type": "execute_result",
          "data": {
            "text/plain": [
              "[0.16398754715919495, 0.9698720574378967]"
            ]
          },
          "metadata": {},
          "execution_count": 54
        }
      ],
      "source": [
        "model.evaluate(X, Y)"
      ]
    }
  ],
  "metadata": {
    "kernelspec": {
      "display_name": "Python 3",
      "language": "python",
      "name": "python3"
    },
    "language_info": {
      "codemirror_mode": {
        "name": "ipython",
        "version": 3
      },
      "file_extension": ".py",
      "mimetype": "text/x-python",
      "name": "python",
      "nbconvert_exporter": "python",
      "pygments_lexer": "ipython3",
      "version": "3.6.5"
    },
    "colab": {
      "provenance": []
    }
  },
  "nbformat": 4,
  "nbformat_minor": 0
}